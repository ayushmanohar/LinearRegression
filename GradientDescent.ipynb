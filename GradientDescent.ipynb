{
 "cells": [
  {
   "cell_type": "code",
   "execution_count": 2,
   "id": "10eed13f",
   "metadata": {},
   "outputs": [],
   "source": [
    "import pandas as pd\n",
    "import numpy as np\n",
    "import matplotlib.pyplot as plt"
   ]
  },
  {
   "cell_type": "code",
   "execution_count": 4,
   "id": "755ab468",
   "metadata": {},
   "outputs": [],
   "source": [
    "df = pd.read_csv('test_scores.csv')"
   ]
  },
  {
   "cell_type": "code",
   "execution_count": 5,
   "id": "296a1cfa",
   "metadata": {},
   "outputs": [
    {
     "data": {
      "text/html": [
       "<div>\n",
       "<style scoped>\n",
       "    .dataframe tbody tr th:only-of-type {\n",
       "        vertical-align: middle;\n",
       "    }\n",
       "\n",
       "    .dataframe tbody tr th {\n",
       "        vertical-align: top;\n",
       "    }\n",
       "\n",
       "    .dataframe thead th {\n",
       "        text-align: right;\n",
       "    }\n",
       "</style>\n",
       "<table border=\"1\" class=\"dataframe\">\n",
       "  <thead>\n",
       "    <tr style=\"text-align: right;\">\n",
       "      <th></th>\n",
       "      <th>name</th>\n",
       "      <th>math</th>\n",
       "      <th>cs</th>\n",
       "    </tr>\n",
       "  </thead>\n",
       "  <tbody>\n",
       "    <tr>\n",
       "      <th>0</th>\n",
       "      <td>david</td>\n",
       "      <td>92</td>\n",
       "      <td>98</td>\n",
       "    </tr>\n",
       "    <tr>\n",
       "      <th>1</th>\n",
       "      <td>laura</td>\n",
       "      <td>56</td>\n",
       "      <td>68</td>\n",
       "    </tr>\n",
       "    <tr>\n",
       "      <th>2</th>\n",
       "      <td>sanjay</td>\n",
       "      <td>88</td>\n",
       "      <td>81</td>\n",
       "    </tr>\n",
       "    <tr>\n",
       "      <th>3</th>\n",
       "      <td>wei</td>\n",
       "      <td>70</td>\n",
       "      <td>80</td>\n",
       "    </tr>\n",
       "    <tr>\n",
       "      <th>4</th>\n",
       "      <td>jeff</td>\n",
       "      <td>80</td>\n",
       "      <td>83</td>\n",
       "    </tr>\n",
       "  </tbody>\n",
       "</table>\n",
       "</div>"
      ],
      "text/plain": [
       "     name  math  cs\n",
       "0   david    92  98\n",
       "1   laura    56  68\n",
       "2  sanjay    88  81\n",
       "3     wei    70  80\n",
       "4    jeff    80  83"
      ]
     },
     "execution_count": 5,
     "metadata": {},
     "output_type": "execute_result"
    }
   ],
   "source": [
    "df.head()"
   ]
  },
  {
   "cell_type": "code",
   "execution_count": 19,
   "id": "b5aad46f",
   "metadata": {},
   "outputs": [],
   "source": [
    "x = df.math"
   ]
  },
  {
   "cell_type": "code",
   "execution_count": 20,
   "id": "47fcac12",
   "metadata": {},
   "outputs": [],
   "source": [
    "y = df.cs"
   ]
  },
  {
   "cell_type": "code",
   "execution_count": 21,
   "id": "528b8b53",
   "metadata": {},
   "outputs": [
    {
     "data": {
      "text/plain": [
       "0    92\n",
       "1    56\n",
       "2    88\n",
       "3    70\n",
       "4    80\n",
       "5    49\n",
       "6    65\n",
       "7    35\n",
       "8    66\n",
       "9    67\n",
       "Name: math, dtype: int64"
      ]
     },
     "execution_count": 21,
     "metadata": {},
     "output_type": "execute_result"
    }
   ],
   "source": [
    "x\n"
   ]
  },
  {
   "cell_type": "code",
   "execution_count": 28,
   "id": "9ae9cc80",
   "metadata": {},
   "outputs": [],
   "source": [
    "def gradient_descent(x,y):\n",
    "    m_curr = b_curr=0\n",
    "    iteration = 100\n",
    "    n=len(x)\n",
    "    learning_rate=0.01\n",
    "    \n",
    "    for i in range(iteration):\n",
    "        y_predicted = m_curr*x + b_curr\n",
    "        cost = (1/n)* sum([val**2 for val in (y-y_predicted)])\n",
    "        md = -(2/n)*sum(x*(y-y_predicted))\n",
    "        bd = -(2/n)*sum(y-y_predicted)\n",
    "        m_curr = m_curr - learning_rate*md\n",
    "        b_curr = b_curr - learning_rate*bd\n",
    "        print(\"m {}, b {} , cost {}, iteration {} \".format(m_curr,b_curr,cost,i))\n",
    "    "
   ]
  },
  {
   "cell_type": "code",
   "execution_count": 27,
   "id": "28a871ef",
   "metadata": {},
   "outputs": [
    {
     "name": "stdout",
     "output_type": "stream",
     "text": [
      "m 98.918, b 1.3980000000000001 , cost 5199.1, iteration 0 \n",
      "m -9169.587968000002, b -129.386408 , cost 45366108.340850405, iteration 1 \n",
      "m 859278.7790833284, b 12125.168845408005 , cost 398290329619.79004, iteration 2 \n",
      "m -80513336.3321037, b -1136112.3853868274 , cost 3496779946139640.5, iteration 3 \n",
      "m 7544007292.656351, b 106452428.60001147 , cost 3.0699891720627802e+19, iteration 4 \n",
      "m -706864823521.7386, b -9974470361.562872 , cost 2.6952892837845242e+23, iteration 5 \n",
      "m 66232422560018.44, b 934596423272.1094 , cost 2.3663224578744982e+27, iteration 6 \n",
      "m -6205901966243919.0, b -87570612045376.58 , cost 2.077506859218773e+31, iteration 7 \n",
      "m 5.814858905354231e+17, b 8205265827097408.0 , cost 1.8239419296970382e+35, iteration 8 \n",
      "m -5.448456046050343e+19, b -7.688239892447695e+17 , cost 1.6013252366146002e+39, iteration 9 \n",
      "m 5.105140772789593e+21, b 7.203792526577272e+19 , cost 1.4058794699920812e+43, iteration 10 \n",
      "m -4.783458302630841e+23, b -6.74987090568644e+21 , cost 1.2342883500192473e+47, iteration 11 \n",
      "m 4.482045520657572e+25, b 6.324551557439078e+23 , cost 1.0836403571650532e+51, iteration 12 \n",
      "m -4.1996252038400877e+27, b -5.926032210335615e+25 , cost 9.513793301690755e+54, iteration 13 \n",
      "m 3.9350006088606955e+29, b 5.552624156669068e+27 , cost 8.352610936721472e+58, iteration 14 \n",
      "m -3.6870504009680314e+31, b -5.202745096702534e+29 , cost 7.3331537955360665e+62, iteration 15 \n",
      "m 3.4547239023717715e+33, b 4.874912433745606e+31 , cost 6.43812395864958e+66, iteration 16 \n",
      "m -3.237036640043024e+35, b -4.567736991717981e+33 , cost 5.652334761091385e+70, iteration 17 \n",
      "m 3.0330661740543987e+37, b 4.279917128578644e+35 , cost 4.962453108489603e+74, iteration 18 \n",
      "m -2.8419481887825394e+39, b -4.0102332206766067e+37 , cost 4.356773244124558e+78, iteration 19 \n",
      "m 2.662872830409765e+41, b 3.757542494650841e+39 , cost 3.8250181282815046e+82, iteration 20 \n",
      "m -2.4950812752051536e+43, b -3.520774184979868e+41 , cost 3.3581650597521543e+86, iteration 21 \n",
      "m 2.3378625140433015e+45, b 3.298924996661283e+43 , cost 2.948292580669893e+90, iteration 22 \n",
      "m -2.190550339535319e+47, b -3.09105485379457e+45 , cost 2.5884460669942973e+94, iteration 23 \n",
      "m 2.052520523005154e+49, b 2.8962829160519996e+47 , cost 2.2725197240146022e+98, iteration 24 \n",
      "m -1.923188169348813e+51, b -2.7137838461575763e+49 , cost 1.9951529845983013e+102, iteration 25 \n",
      "m 1.8020052385678148e+53, b 2.5427843125576694e+51 , cost 1.7516395522936851e+106, iteration 26 \n",
      "m -1.6884582234744865e+55, b -2.382559712463536e+53 , cost 1.5378475459501542e+110, iteration 27 \n",
      "m 1.5820659737284843e+57, b 2.2324311013797718e+55 , cost 1.35014939088815e+114, iteration 28 \n",
      "m -1.4823776569839887e+59, b -2.0917623161077335e+57 , cost 1.1853602670278786e+118, iteration 29 \n",
      "m 1.3889708485080324e+61, b 1.9599572790327534e+59 , cost 1.0406840695784935e+122, iteration 30 \n",
      "m -1.3014497411748039e+63, b -1.8364574722722103e+61 , cost 9.136659653608772e+125, iteration 31 \n",
      "m 1.219443468250852e+65, b 1.7207395709812706e+63 , cost 8.0215073975038e+129, iteration 32 \n",
      "m -1.1426045318640812e+67, b -1.6123132257875217e+65 , cost 7.042462274797934e+133, iteration 33 \n",
      "m 1.0706073304972364e+69, b 1.510718984957695e+67 , cost 6.182912068046699e+137, iteration 34 \n",
      "m -1.0031467792662015e+71, b -1.4155263474917225e+69 , cost 5.428272122663853e+141, iteration 35 \n",
      "m 9.399370171366024e+72, b 1.3263319388942262e+71 , cost 4.765737877782639e+145, iteration 36 \n",
      "m -8.807101956006055e+74, b -1.2427578018933375e+73 , cost 4.184067601346858e+149, iteration 37 \n",
      "m 8.252153436809802e+76, b 1.164449794863854e+75 , cost 3.6733916429297385e+153, iteration 38 \n",
      "m -7.732173044529361e+78, b -1.0910760911681242e+77 , cost 3.225044967725275e+157, iteration 39 \n",
      "m 7.244957385772907e+80, b 1.0223257730556751e+79 , cost 2.831420130186499e+161, iteration 40 \n",
      "m -6.788441906224863e+82, b -9.579075141633148e+80 , cost 2.485838192600437e+165, iteration 41 \n",
      "m 6.360692142190374e+84, b 8.975483450328412e+82 , cost 2.1824353983751556e+169, iteration 42 \n",
      "m -5.959895523392907e+86, b -8.409924964153124e+84 , cost 1.9160636771367335e+173, iteration 43 \n",
      "m 5.584353692289688e+88, b 7.880003154604224e+86 , cost 1.68220329342901e+177, iteration 44 \n",
      "m -5.232475307358434e+90, b -7.3834725019839e+88 , cost 1.4768861568589032e+181, iteration 45 \n",
      "m 4.9027692998596465e+92, b 6.918228980111427e+90 , cost 1.2966284924310824e+185, iteration 46 \n",
      "m -4.5938385555002596e+94, b -6.482301140607395e+92 , cost 1.1383717286373908e+189, iteration 47 \n",
      "m 4.304373994225029e+96, b 6.073841758970393e+94 , cost 9.994306003033937e+192, iteration 48 \n",
      "m -4.033149023049007e+98, b -5.69112000704673e+96 , cost 8.774475856128477e+196, iteration 49 \n",
      "m 3.779014338425252e+100, b 5.332514118724415e+98 , cost 7.703529042077515e+200, iteration 50 \n",
      "m -3.540893056123038e+102, b -4.996504517772638e+100 , cost 6.763293976207482e+204, iteration 51 \n",
      "m 3.317776147979637e+104, b 4.681667378706207e+102 , cost 5.937816961389488e+208, iteration 52 \n",
      "m -3.108718166189119e+106, b -4.386668593389475e+104 , cost 5.213091489294607e+212, iteration 53 \n",
      "m 2.912833237010043e+108, b 4.110258117813446e+106 , cost 4.5768205811107413e+216, iteration 54 \n",
      "m -2.7292913069155488e+110, b -3.8512646750908465e+108 , cost 4.0182081351718755e+220, iteration 55 \n",
      "m 2.557314625279079e+112, b 3.608590792223282e+110 , cost 3.5277757411331614e+224, iteration 56 \n",
      "m -2.3961744486912823e+114, b -3.381208149609062e+112 , cost 3.097201852435974e+228, iteration 57 \n",
      "m 2.2451879529427813e+116, b 3.1681532235853846e+114 , cost 2.7191805881775087e+232, iteration 58 \n",
      "m -2.103715339587469e+118, b -2.968523203540419e+116 , cost 2.387297768566809e+236, iteration 59 \n",
      "m 1.9711571248255345e+120, b 2.7814721662941635e+118 , cost 2.095922080564669e+240, iteration 60 \n",
      "m -1.8469515992179773e+122, b -2.606207491537232e+120 , cost 1.840109527030539e+244, iteration 61 \n",
      "m 1.7305724474682703e+124, b 2.441986503138153e+122 , cost 1.615519538090995e+248, iteration 62 \n",
      "m -1.621526518185095e+126, b -2.288113322086855e+124 , cost 1.4183413213263731e+252, iteration 63 \n",
      "m 1.5193517341756278e+128, b 2.143935917738836e+126 , cost 1.2452292011020746e+256, iteration 64 \n",
      "m -1.4236151344143378e+130, b -2.0088433448647983e+128 , cost 1.0932458498968773e+260, iteration 65 \n",
      "m 1.3339110393902257e+132, b 1.8822631547978803e+130 , cost 9.598124483901925e+263, iteration 66 \n",
      "m -1.2498593320582444e+134, b -1.7636589697083224e+132 , cost 8.426649286358364e+267, iteration 67 \n",
      "m 1.1711038471105164e+136, b 1.6525282097266731e+134 , cost 7.398155578663304e+271, iteration 68 \n",
      "m -1.0973108617419513e+138, b -1.5483999632843285e+136 , cost 6.49519211090368e+275, iteration 69 \n",
      "m 1.028167681514955e+140, b 1.4508329916470608e+138 , cost 5.702437602044571e+279, iteration 70 \n",
      "m -9.633813153308937e+141, b -1.359413859185839e+140 , cost 5.006440771878509e+283, iteration 71 \n",
      "m 9.026772338935685e+143, b 1.2737551814620527e+142 , cost 4.395392102728275e+287, iteration 72 \n",
      "m -8.457982064037382e+145, b -1.1934939837034794e+144 , cost 3.8589234582070315e+291, iteration 73 \n",
      "m 7.925032105552447e+147, b 1.1182901627151002e+146 , cost 3.387932159012003e+295, iteration 74 \n",
      "m -7.425664112138921e+149, b -1.0478250457071987e+148 , cost 2.9744265307093664e+299, iteration 75 \n",
      "m 6.957762034512808e+151, b 9.818000399338293e+149 , cost 2.6113903027998675e+303, iteration 76 \n",
      "m -6.519343158784951e+153, b -9.199353674195595e+151 , cost inf, iteration 77 \n"
     ]
    },
    {
     "ename": "OverflowError",
     "evalue": "(34, 'Result too large')",
     "output_type": "error",
     "traceback": [
      "\u001b[1;31m---------------------------------------------------------------------------\u001b[0m",
      "\u001b[1;31mOverflowError\u001b[0m                             Traceback (most recent call last)",
      "\u001b[1;32m~\\AppData\\Local\\Temp/ipykernel_9324/1389252941.py\u001b[0m in \u001b[0;36m<module>\u001b[1;34m\u001b[0m\n\u001b[1;32m----> 1\u001b[1;33m \u001b[0mgradient_descent\u001b[0m\u001b[1;33m(\u001b[0m\u001b[0mx\u001b[0m\u001b[1;33m,\u001b[0m\u001b[0my\u001b[0m\u001b[1;33m)\u001b[0m\u001b[1;33m\u001b[0m\u001b[1;33m\u001b[0m\u001b[0m\n\u001b[0m",
      "\u001b[1;32m~\\AppData\\Local\\Temp/ipykernel_9324/750086379.py\u001b[0m in \u001b[0;36mgradient_descent\u001b[1;34m(x, y)\u001b[0m\n\u001b[0;32m      7\u001b[0m     \u001b[1;32mfor\u001b[0m \u001b[0mi\u001b[0m \u001b[1;32min\u001b[0m \u001b[0mrange\u001b[0m\u001b[1;33m(\u001b[0m\u001b[0miteration\u001b[0m\u001b[1;33m)\u001b[0m\u001b[1;33m:\u001b[0m\u001b[1;33m\u001b[0m\u001b[1;33m\u001b[0m\u001b[0m\n\u001b[0;32m      8\u001b[0m         \u001b[0my_predicted\u001b[0m \u001b[1;33m=\u001b[0m \u001b[0mm_curr\u001b[0m\u001b[1;33m*\u001b[0m\u001b[0mx\u001b[0m \u001b[1;33m+\u001b[0m \u001b[0mb_curr\u001b[0m\u001b[1;33m\u001b[0m\u001b[1;33m\u001b[0m\u001b[0m\n\u001b[1;32m----> 9\u001b[1;33m         \u001b[0mcost\u001b[0m \u001b[1;33m=\u001b[0m \u001b[1;33m(\u001b[0m\u001b[1;36m1\u001b[0m\u001b[1;33m/\u001b[0m\u001b[0mn\u001b[0m\u001b[1;33m)\u001b[0m\u001b[1;33m*\u001b[0m \u001b[0msum\u001b[0m\u001b[1;33m(\u001b[0m\u001b[1;33m[\u001b[0m\u001b[0mval\u001b[0m\u001b[1;33m**\u001b[0m\u001b[1;36m2\u001b[0m \u001b[1;32mfor\u001b[0m \u001b[0mval\u001b[0m \u001b[1;32min\u001b[0m \u001b[1;33m(\u001b[0m\u001b[0my\u001b[0m\u001b[1;33m-\u001b[0m\u001b[0my_predicted\u001b[0m\u001b[1;33m)\u001b[0m\u001b[1;33m]\u001b[0m\u001b[1;33m)\u001b[0m\u001b[1;33m\u001b[0m\u001b[1;33m\u001b[0m\u001b[0m\n\u001b[0m\u001b[0;32m     10\u001b[0m         \u001b[0mmd\u001b[0m \u001b[1;33m=\u001b[0m \u001b[1;33m-\u001b[0m\u001b[1;33m(\u001b[0m\u001b[1;36m2\u001b[0m\u001b[1;33m/\u001b[0m\u001b[0mn\u001b[0m\u001b[1;33m)\u001b[0m\u001b[1;33m*\u001b[0m\u001b[0msum\u001b[0m\u001b[1;33m(\u001b[0m\u001b[0mx\u001b[0m\u001b[1;33m*\u001b[0m\u001b[1;33m(\u001b[0m\u001b[0my\u001b[0m\u001b[1;33m-\u001b[0m\u001b[0my_predicted\u001b[0m\u001b[1;33m)\u001b[0m\u001b[1;33m)\u001b[0m\u001b[1;33m\u001b[0m\u001b[1;33m\u001b[0m\u001b[0m\n\u001b[0;32m     11\u001b[0m         \u001b[0mbd\u001b[0m \u001b[1;33m=\u001b[0m \u001b[1;33m-\u001b[0m\u001b[1;33m(\u001b[0m\u001b[1;36m2\u001b[0m\u001b[1;33m/\u001b[0m\u001b[0mn\u001b[0m\u001b[1;33m)\u001b[0m\u001b[1;33m*\u001b[0m\u001b[0msum\u001b[0m\u001b[1;33m(\u001b[0m\u001b[0my\u001b[0m\u001b[1;33m-\u001b[0m\u001b[0my_predicted\u001b[0m\u001b[1;33m)\u001b[0m\u001b[1;33m\u001b[0m\u001b[1;33m\u001b[0m\u001b[0m\n",
      "\u001b[1;32m~\\AppData\\Local\\Temp/ipykernel_9324/750086379.py\u001b[0m in \u001b[0;36m<listcomp>\u001b[1;34m(.0)\u001b[0m\n\u001b[0;32m      7\u001b[0m     \u001b[1;32mfor\u001b[0m \u001b[0mi\u001b[0m \u001b[1;32min\u001b[0m \u001b[0mrange\u001b[0m\u001b[1;33m(\u001b[0m\u001b[0miteration\u001b[0m\u001b[1;33m)\u001b[0m\u001b[1;33m:\u001b[0m\u001b[1;33m\u001b[0m\u001b[1;33m\u001b[0m\u001b[0m\n\u001b[0;32m      8\u001b[0m         \u001b[0my_predicted\u001b[0m \u001b[1;33m=\u001b[0m \u001b[0mm_curr\u001b[0m\u001b[1;33m*\u001b[0m\u001b[0mx\u001b[0m \u001b[1;33m+\u001b[0m \u001b[0mb_curr\u001b[0m\u001b[1;33m\u001b[0m\u001b[1;33m\u001b[0m\u001b[0m\n\u001b[1;32m----> 9\u001b[1;33m         \u001b[0mcost\u001b[0m \u001b[1;33m=\u001b[0m \u001b[1;33m(\u001b[0m\u001b[1;36m1\u001b[0m\u001b[1;33m/\u001b[0m\u001b[0mn\u001b[0m\u001b[1;33m)\u001b[0m\u001b[1;33m*\u001b[0m \u001b[0msum\u001b[0m\u001b[1;33m(\u001b[0m\u001b[1;33m[\u001b[0m\u001b[0mval\u001b[0m\u001b[1;33m**\u001b[0m\u001b[1;36m2\u001b[0m \u001b[1;32mfor\u001b[0m \u001b[0mval\u001b[0m \u001b[1;32min\u001b[0m \u001b[1;33m(\u001b[0m\u001b[0my\u001b[0m\u001b[1;33m-\u001b[0m\u001b[0my_predicted\u001b[0m\u001b[1;33m)\u001b[0m\u001b[1;33m]\u001b[0m\u001b[1;33m)\u001b[0m\u001b[1;33m\u001b[0m\u001b[1;33m\u001b[0m\u001b[0m\n\u001b[0m\u001b[0;32m     10\u001b[0m         \u001b[0mmd\u001b[0m \u001b[1;33m=\u001b[0m \u001b[1;33m-\u001b[0m\u001b[1;33m(\u001b[0m\u001b[1;36m2\u001b[0m\u001b[1;33m/\u001b[0m\u001b[0mn\u001b[0m\u001b[1;33m)\u001b[0m\u001b[1;33m*\u001b[0m\u001b[0msum\u001b[0m\u001b[1;33m(\u001b[0m\u001b[0mx\u001b[0m\u001b[1;33m*\u001b[0m\u001b[1;33m(\u001b[0m\u001b[0my\u001b[0m\u001b[1;33m-\u001b[0m\u001b[0my_predicted\u001b[0m\u001b[1;33m)\u001b[0m\u001b[1;33m)\u001b[0m\u001b[1;33m\u001b[0m\u001b[1;33m\u001b[0m\u001b[0m\n\u001b[0;32m     11\u001b[0m         \u001b[0mbd\u001b[0m \u001b[1;33m=\u001b[0m \u001b[1;33m-\u001b[0m\u001b[1;33m(\u001b[0m\u001b[1;36m2\u001b[0m\u001b[1;33m/\u001b[0m\u001b[0mn\u001b[0m\u001b[1;33m)\u001b[0m\u001b[1;33m*\u001b[0m\u001b[0msum\u001b[0m\u001b[1;33m(\u001b[0m\u001b[0my\u001b[0m\u001b[1;33m-\u001b[0m\u001b[0my_predicted\u001b[0m\u001b[1;33m)\u001b[0m\u001b[1;33m\u001b[0m\u001b[1;33m\u001b[0m\u001b[0m\n",
      "\u001b[1;31mOverflowError\u001b[0m: (34, 'Result too large')"
     ]
    }
   ],
   "source": [
    "gradient_descent(x,y)"
   ]
  },
  {
   "cell_type": "code",
   "execution_count": null,
   "id": "0361c019",
   "metadata": {},
   "outputs": [],
   "source": []
  }
 ],
 "metadata": {
  "kernelspec": {
   "display_name": "Python 3 (ipykernel)",
   "language": "python",
   "name": "python3"
  },
  "language_info": {
   "codemirror_mode": {
    "name": "ipython",
    "version": 3
   },
   "file_extension": ".py",
   "mimetype": "text/x-python",
   "name": "python",
   "nbconvert_exporter": "python",
   "pygments_lexer": "ipython3",
   "version": "3.9.6"
  }
 },
 "nbformat": 4,
 "nbformat_minor": 5
}
